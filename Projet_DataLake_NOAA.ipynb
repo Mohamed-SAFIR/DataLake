{
 "cells": [
  {
   "cell_type": "code",
   "execution_count": 1,
   "id": "8a7a00cd",
   "metadata": {},
   "outputs": [],
   "source": [
    "from pyspark.sql import SparkSession\n",
    "from pyspark.sql.types import IntegerType, LongType\n",
    "from pyspark.sql.functions import split, col,substring,regexp_replace,length,expr,concat,concat_ws, max\n",
    "import pyspark.sql.functions as f\n"
   ]
  },
  {
   "cell_type": "code",
   "execution_count": 2,
   "id": "f319fd78",
   "metadata": {},
   "outputs": [],
   "source": [
    "spark = SparkSession.builder.getOrCreate()"
   ]
  },
  {
   "cell_type": "code",
   "execution_count": 3,
   "id": "45b4d5d4",
   "metadata": {},
   "outputs": [],
   "source": [
    "# Importer tous les fichiers csv\n",
    "df = spark.read.csv('/Users/mohamedsafir/Desktop/Ecole IPSSI/DataLake/Data',header=True)"
   ]
  },
  {
   "cell_type": "code",
   "execution_count": 4,
   "id": "2d5ad97b",
   "metadata": {},
   "outputs": [
    {
     "data": {
      "text/plain": [
       "7620638"
      ]
     },
     "execution_count": 4,
     "metadata": {},
     "output_type": "execute_result"
    }
   ],
   "source": [
    "df.count()"
   ]
  },
  {
   "cell_type": "code",
   "execution_count": 5,
   "id": "c6598d22",
   "metadata": {},
   "outputs": [],
   "source": [
    "#Traitement des colonnes !\n",
    "\n",
    "#df = df.withColumn('LATITUDE', df['LATITUDE'].cast(\"float\"))\n",
    "df = df.withColumn('STATION', df['STATION'].cast(\"long\"))\n",
    "#df = df.withColumn('LONGITUDE', df['LONGITUDE'].cast(\"float\"))\n",
    "split_col = split(df['TMP'], ',')\n",
    "df = df.withColumn('TMP_FINAL', (split_col.getItem(0).cast(\"int\"))/10)\n",
    "df = df.withColumn('TMP_CONTROLE', split_col.getItem(1))\n",
    "split_col_date_heure = split(df['DATE'],'T')\n",
    "df = df.withColumn('DATE_FINALE', split_col_date_heure.getItem(0))\n",
    "df = df.withColumn('HEURE_FINALE', split_col_date_heure.getItem(1))\n",
    "split_col_date = split(df['DATE_FINALE'],'-')\n",
    "df = df.withColumn('JOUR', split_col_date.getItem(2).cast(\"int\"))\n",
    "df = df.withColumn('MOIS', split_col_date.getItem(1).cast(\"int\"))\n",
    "df = df.withColumn('ANNEE', split_col_date.getItem(0).cast(\"int\"))\n",
    "split_col_wnd = split(df['WND'],',')\n",
    "df = df.withColumn('direction_angle', split_col_wnd.getItem(0).cast(\"int\"))\n",
    "df = df.withColumn('direction_quality_code', split_col_wnd.getItem(1).cast(\"int\"))\n",
    "df = df.withColumn('type_code', split_col_wnd.getItem(2))\n",
    "df = df.withColumn('speed_rate', split_col_wnd.getItem(3).cast(\"int\"))\n",
    "df = df.withColumn('speed_quality_code', split_col_wnd.getItem(4).cast(\"int\"))"
   ]
  },
  {
   "cell_type": "code",
   "execution_count": 6,
   "id": "169eb4cd",
   "metadata": {},
   "outputs": [
    {
     "name": "stdout",
     "output_type": "stream",
     "text": [
      "+-----------+----------+----+----+-----+---------+------------+---------------+----------------------+---------+----------+------------------+\n",
      "|       NAME|   STATION|JOUR|MOIS|ANNEE|TMP_FINAL|TMP_CONTROLE|direction_angle|direction_quality_code|type_code|speed_rate|speed_quality_code|\n",
      "+-----------+----------+----+----+-----+---------+------------+---------------+----------------------+---------+----------+------------------+\n",
      "|SATENAS, SW|2520099999|   1|   1| 2021|      1.3|           1|            130|                     1|        N|        30|                 1|\n",
      "|SATENAS, SW|2520099999|   1|   1| 2021|      1.0|           1|            150|                     1|        N|        26|                 1|\n",
      "|SATENAS, SW|2520099999|   1|   1| 2021|      1.0|           1|            190|                     1|        V|        15|                 1|\n",
      "|SATENAS, SW|2520099999|   1|   1| 2021|      0.8|           1|            200|                     1|        N|        10|                 1|\n",
      "|SATENAS, SW|2520099999|   1|   1| 2021|      1.0|           1|            160|                     1|        N|        21|                 1|\n",
      "|SATENAS, SW|2520099999|   1|   1| 2021|      0.0|           1|            999|                     9|        C|         0|                 1|\n",
      "|SATENAS, SW|2520099999|   1|   1| 2021|      0.5|           1|            999|                     9|        C|      9999|                 9|\n",
      "|SATENAS, SW|2520099999|   1|   1| 2021|      1.0|           1|            999|                     9|        V|         5|                 1|\n",
      "|SATENAS, SW|2520099999|   1|   1| 2021|      1.0|           1|            130|                     1|        N|        26|                 1|\n",
      "|SATENAS, SW|2520099999|   1|   1| 2021|      0.8|           1|            130|                     1|        N|        20|                 1|\n",
      "|SATENAS, SW|2520099999|   1|   1| 2021|      1.0|           1|            110|                     1|        N|        26|                 1|\n",
      "|SATENAS, SW|2520099999|   1|   1| 2021|      1.0|           1|            110|                     1|        N|        21|                 1|\n",
      "|SATENAS, SW|2520099999|   1|   1| 2021|      1.0|           1|            100|                     1|        N|        20|                 1|\n",
      "|SATENAS, SW|2520099999|   1|   1| 2021|      1.0|           1|            100|                     1|        N|        26|                 1|\n",
      "|SATENAS, SW|2520099999|   1|   1| 2021|      1.0|           1|            100|                     1|        N|        21|                 1|\n",
      "|SATENAS, SW|2520099999|   1|   1| 2021|      1.2|           1|            100|                     1|        N|        10|                 1|\n",
      "|SATENAS, SW|2520099999|   1|   1| 2021|      1.0|           1|            110|                     1|        N|        15|                 1|\n",
      "|SATENAS, SW|2520099999|   1|   1| 2021|      1.0|           1|             90|                     1|        N|        10|                 1|\n",
      "|SATENAS, SW|2520099999|   1|   1| 2021|      1.1|           1|            100|                     1|        N|        10|                 1|\n",
      "|SATENAS, SW|2520099999|   1|   1| 2021|      1.0|           1|            100|                     1|        N|        21|                 1|\n",
      "+-----------+----------+----+----+-----+---------+------------+---------------+----------------------+---------+----------+------------------+\n",
      "only showing top 20 rows\n",
      "\n"
     ]
    }
   ],
   "source": [
    "# Selectionner les colonnes qu'on utilisera\n",
    "df.select(\"NAME\",\"STATION\",\"JOUR\",\"MOIS\",\"ANNEE\",\"TMP_FINAL\",\"TMP_CONTROLE\",\"direction_angle\",\"direction_quality_code\",\"type_code\",\"speed_rate\",\"speed_quality_code\").show()"
   ]
  },
  {
   "cell_type": "code",
   "execution_count": 7,
   "id": "b9f61e7e",
   "metadata": {},
   "outputs": [],
   "source": [
    "# Création d'un nouveau DataFrame avec les nouvelles colonnes à partir de DataFrame de base\n",
    "df_f = df.select(\"NAME\",\"STATION\",\"LATITUDE\",\"LONGITUDE\",\"JOUR\",\"MOIS\",\"ANNEE\",\"TMP_FINAL\",\"TMP_CONTROLE\",\"direction_angle\",\"direction_quality_code\",\"type_code\",\"speed_rate\",\"speed_quality_code\")"
   ]
  },
  {
   "cell_type": "code",
   "execution_count": 8,
   "id": "7db46a5e",
   "metadata": {},
   "outputs": [
    {
     "data": {
      "text/plain": [
       "7620638"
      ]
     },
     "execution_count": 8,
     "metadata": {},
     "output_type": "execute_result"
    }
   ],
   "source": [
    "df_f.count()"
   ]
  },
  {
   "cell_type": "code",
   "execution_count": 9,
   "id": "9ca7a6e8",
   "metadata": {},
   "outputs": [],
   "source": [
    "# Garder uniquement les lignes qui ont un TMP_CONROLE==1\n",
    "df_f = df_f.filter(df_f.TMP_CONTROLE==1)"
   ]
  },
  {
   "cell_type": "code",
   "execution_count": 10,
   "id": "dcd7eb68",
   "metadata": {},
   "outputs": [
    {
     "data": {
      "text/plain": [
       "7475333"
      ]
     },
     "execution_count": 10,
     "metadata": {},
     "output_type": "execute_result"
    }
   ],
   "source": [
    "df_f.count()"
   ]
  },
  {
   "cell_type": "code",
   "execution_count": 11,
   "id": "21cbdb47",
   "metadata": {},
   "outputs": [
    {
     "name": "stdout",
     "output_type": "stream",
     "text": [
      "-RECORD 0-----------------------------\n",
      " NAME                   | SATENAS, SW \n",
      " STATION                | 2520099999  \n",
      " LATITUDE               | 58.426445   \n",
      " LONGITUDE              | 12.714389   \n",
      " JOUR                   | 1           \n",
      " MOIS                   | 1           \n",
      " ANNEE                  | 2021        \n",
      " TMP_FINAL              | 1.3         \n",
      " TMP_CONTROLE           | 1           \n",
      " direction_angle        | 130         \n",
      " direction_quality_code | 1           \n",
      " type_code              | N           \n",
      " speed_rate             | 30          \n",
      " speed_quality_code     | 1           \n",
      "only showing top 1 row\n",
      "\n"
     ]
    }
   ],
   "source": [
    "df_f.show(n=1, truncate=False, vertical=True)"
   ]
  },
  {
   "cell_type": "code",
   "execution_count": 13,
   "id": "9057ad47",
   "metadata": {},
   "outputs": [
    {
     "data": {
      "text/plain": [
       "366"
      ]
     },
     "execution_count": 13,
     "metadata": {},
     "output_type": "execute_result"
    }
   ],
   "source": [
    "# MOYENNE DES TEMPÉRATURES PAR STATTION\n",
    "df_f.groupby(\"LATITUDE\").avg(\"TMP_FINAL\").count()"
   ]
  },
  {
   "cell_type": "code",
   "execution_count": 14,
   "id": "27c988d7",
   "metadata": {},
   "outputs": [
    {
     "name": "stdout",
     "output_type": "stream",
     "text": [
      "-RECORD 0---------------------------\n",
      " STATION        | 2186099999        \n",
      " NAME           | KALLAX, SW        \n",
      " LONGITUDE      | 22.121989         \n",
      " LATITUDE       | 65.543758         \n",
      " avg(TMP_FINAL) | 4.038190265226524 \n",
      "only showing top 1 row\n",
      "\n"
     ]
    }
   ],
   "source": [
    "# MOYENNE DES TEMPÉRATURES FINALES PAR LONGITUDE ET LATITUDE\n",
    "df_f.groupby(\"STATION\",\"NAME\",\"LONGITUDE\",\"LATITUDE\").avg(\"TMP_FINAL\").show(n=1, truncate=False, vertical=True)"
   ]
  },
  {
   "cell_type": "code",
   "execution_count": 15,
   "id": "796a2377",
   "metadata": {},
   "outputs": [],
   "source": [
    "# MOYENNE DES TEMPÉRATURES FINALES PAR LONGITUDE ET LATITUDE (STATION)\n",
    "df_moyenne_station = df_f.groupby(\"STATION\",\"NAME\",\"LONGITUDE\",\"LATITUDE\",).avg(\"TMP_FINAL\")\n",
    "df_moyenne_station = df_moyenne_station.withColumnRenamed(\"avg(TMP_FINAL)\",\"Moyenne_TMP_station\")"
   ]
  },
  {
   "cell_type": "code",
   "execution_count": 16,
   "id": "d33ae5c4",
   "metadata": {},
   "outputs": [
    {
     "name": "stdout",
     "output_type": "stream",
     "text": [
      "+----------+--------------------+----------+----------+-------------------+\n",
      "|   STATION|                NAME| LONGITUDE|  LATITUDE|Moyenne_TMP_station|\n",
      "+----------+--------------------+----------+----------+-------------------+\n",
      "|2186099999|          KALLAX, SW| 22.121989| 65.543758|  4.038190265226524|\n",
      "|1023099999|       BARDUFOSS, NO| 18.540356| 69.055758|  2.703143944144881|\n",
      "|2520099999|         SATENAS, SW| 12.714389| 58.426445|   8.54774016254455|\n",
      "|2458099999|         UPPSALA, SW| 17.588581| 59.897328|  7.632638943790031|\n",
      "|2562099999|          MALMEN, SW| 15.525683| 58.402278| 7.4926822558459865|\n",
      "|2154099999|          VIDSEL, SW| 20.149917| 65.875325| 2.6239300440779223|\n",
      "|2526099999|      LANDVETTER, SW| 12.279819| 57.662836|  7.852673827673833|\n",
      "|1311099999|        FLESLAND, NO|  5.218142| 60.293386|  8.364714129927082|\n",
      "|2435099999|        BORLANGE, SW| 15.515211| 60.422017|  6.803027897701959|\n",
      "|2101099999|         HEMAVAN, SW| 15.082778| 65.806111| 1.2369364813878323|\n",
      "|2366099999|SUNDSVALL HARNOSA...| 17.443928| 62.528125|  5.533182272064118|\n",
      "|2590099999|           VISBY, SW| 18.346211| 57.662797|  8.273895645351121|\n",
      "|2267099999|    ORNSKOLDSVIK, SW| 18.990039| 63.408339|  4.794783379245337|\n",
      "|2418099999|        KARLSTAD, SW| 13.337361| 59.444714|  7.609528135933998|\n",
      "|1271099999|         VAERNES, NO| 10.939872| 63.457556|  6.939258478378074|\n",
      "|2563599999|       ANGELHOLM, SW|12.8333333|56.2833333|  8.663051736967839|\n",
      "|2044099999|          KIRUNA, SW| 20.336764| 67.821986| 0.6931965818575595|\n",
      "|2049099999|       GALLIVARE, SW| 20.814636| 67.132408| 1.1238578780290494|\n",
      "|2226099999|       OSTERSUND, SW|      14.5|      63.2|   4.29517930288279|\n",
      "|2464099999|          BROMMA, SW|  17.94165| 59.354372|  8.506901408450652|\n",
      "+----------+--------------------+----------+----------+-------------------+\n",
      "only showing top 20 rows\n",
      "\n"
     ]
    }
   ],
   "source": [
    "#DataFrame moyenne des températures par station année 2020-2021\n",
    "df_moyenne_station.show()"
   ]
  },
  {
   "cell_type": "code",
   "execution_count": 17,
   "id": "a9192006",
   "metadata": {},
   "outputs": [
    {
     "data": {
      "text/plain": [
       "448"
      ]
     },
     "execution_count": 17,
     "metadata": {},
     "output_type": "execute_result"
    }
   ],
   "source": [
    "df_moyenne_station.count()"
   ]
  },
  {
   "cell_type": "code",
   "execution_count": 18,
   "id": "72a308b0",
   "metadata": {},
   "outputs": [],
   "source": [
    "# Exporter le résultat dans un fichier csv\n",
    "#df_moyenne_station.write.csv(\"/Users/mohamedsafir/Desktop/Ecole IPSSI/DataLake/datacsv\")"
   ]
  },
  {
   "cell_type": "code",
   "execution_count": 19,
   "id": "0b4a074e",
   "metadata": {},
   "outputs": [],
   "source": [
    "# MOYENNE DES TEMPÉRATURES FINALES PAR JOUR\n",
    "df_moyenne_jour = df_f.groupby(\"STATION\",\"NAME\",\"LONGITUDE\",\"LATITUDE\",concat_ws('-',df_f.JOUR,df_f.MOIS,df_f.ANNEE)).avg(\"TMP_FINAL\").orderBy(\"concat_ws(-, JOUR, MOIS, ANNEE)\")\n",
    "#df_moyenne_jour = df_moyenne_station.withColumnRenamed(\"concat_ws('-',df_f.JOUR,df_f.MOIS,df_f.ANNEE)\",\"DATE\")\n",
    "#df_moyenne_jour = df_moyenne_station.withColumnRenamed(\"avg(TMP_FINAL)\",\"Moyenne_TMP_jour\")"
   ]
  },
  {
   "cell_type": "code",
   "execution_count": 20,
   "id": "e07fe73c",
   "metadata": {},
   "outputs": [
    {
     "name": "stdout",
     "output_type": "stream",
     "text": [
      "+----------+--------------------+----------+----------+-------------------------------+------------------+\n",
      "|   STATION|                NAME| LONGITUDE|  LATITUDE|concat_ws(-, JOUR, MOIS, ANNEE)|    avg(TMP_FINAL)|\n",
      "+----------+--------------------+----------+----------+-------------------------------+------------------+\n",
      "|2431099999|          KLOTEN, SW|     15.25|59.8666666|                       1-1-2020|             2.375|\n",
      "|2209099999|         SYLARNA, SW|12.2833333|     63.05|                       1-1-2020|0.7208333333333332|\n",
      "|2265099999|         HEMLING, SW|     18.55|     63.65|                       1-1-2020|3.9583333333333335|\n",
      "|2286099999|            UMEA, SW| 20.282758| 63.791828|                       1-1-2020| 2.204166666666667|\n",
      "|2151099999|    JOKKMOKK FPL, SW|20.1666666|66.4833333|                       1-1-2020|-3.229166666666668|\n",
      "|1384099999|      GARDERMOEN, NO| 11.100361| 60.193917|                       1-1-2020|1.9430555555555553|\n",
      "|2489099999|           BERGA, SW|18.1166666|59.0666666|                       1-1-2020|3.8708333333333336|\n",
      "|1300599999|STATFJORD OIL PLA...|      1.85|     61.25|                       1-1-2020|            9.0625|\n",
      "|2429099999|        DAGLOSEN, SW|14.1833333|59.6666666|                       1-1-2020|2.4416666666666664|\n",
      "|2490099999|       SVANBERGA, SW|18.6333333|59.8333333|                       1-1-2020| 3.483333333333333|\n",
      "|2440099999|            AMOT, SW|16.4333333|60.9666666|                       1-1-2020|4.0041666666666655|\n",
      "|2347099999|          DELSBO, SW|     16.55|61.8333333|                       1-1-2020| 3.816666666666666|\n",
      "|2403099999|           NAVEN, SW|13.1166666|      58.7|                       1-1-2020| 4.666666666666666|\n",
      "|2501099999|      VADEROARNA, SW|11.0666666|58.5833333|                       1-1-2020|6.6000000000000005|\n",
      "|1147099999|       VARNTRESK, NO|14.1833333|65.8333333|                       1-1-2020|2.9666666666666672|\n",
      "|1373099999|  NESBYEN TODOKK, NO| 9.1333333|60.5666666|                       1-1-2020| 4.870833333333334|\n",
      "|1310099999|           FLORO, NO|  5.024722| 61.583611|                       1-1-2020| 7.315277777777778|\n",
      "|2469099999|        TULLINGE, SW|17.9166667|59.1833333|                       1-1-2020| 3.170833333333334|\n",
      "|1088099999|           VADSO, NO|     29.85|70.0666667|                       1-1-2020|-7.184905660377358|\n",
      "|1132099999|      MAJAVATN V, NO|13.3666666|65.1666666|                       1-1-2020|              3.35|\n",
      "+----------+--------------------+----------+----------+-------------------------------+------------------+\n",
      "only showing top 20 rows\n",
      "\n"
     ]
    }
   ],
   "source": [
    "df_moyenne_jour.show()"
   ]
  },
  {
   "cell_type": "code",
   "execution_count": 21,
   "id": "ac57b7ba",
   "metadata": {},
   "outputs": [],
   "source": [
    "# Exporter le résultat dans un fichier csv\n",
    "#df_moyenne_jour.write.csv(\"/Users/mohamedsafir/Desktop/Ecole IPSSI/DataLake/datacsvjour\")"
   ]
  },
  {
   "cell_type": "code",
   "execution_count": 22,
   "id": "4c7cf7a8",
   "metadata": {},
   "outputs": [
    {
     "data": {
      "text/plain": [
       "285695"
      ]
     },
     "execution_count": 22,
     "metadata": {},
     "output_type": "execute_result"
    }
   ],
   "source": [
    "df_moyenne_jour.count()"
   ]
  },
  {
   "cell_type": "code",
   "execution_count": 23,
   "id": "c06a7129",
   "metadata": {},
   "outputs": [],
   "source": [
    "# Exporter le résultat dans un fichier csv\n",
    "#df_moyenne_jour.coalesce(1).write.csv(\"/Users/mohamedsafir/Desktop/Ecole IPSSI/DataLake/datall\")"
   ]
  },
  {
   "cell_type": "code",
   "execution_count": 24,
   "id": "d50642e0",
   "metadata": {},
   "outputs": [],
   "source": [
    "# MOYENNE DES TEMPÉRATURES FINALES PAR MOIS\n",
    "df_moyenne_mois = df_f.groupby(\"STATION\",\"NAME\",\"LONGITUDE\",\"LATITUDE\",concat_ws('-',df_f.MOIS,df_f.ANNEE)).avg(\"TMP_FINAL\").orderBy(\"concat_ws(-, MOIS, ANNEE)\")"
   ]
  },
  {
   "cell_type": "code",
   "execution_count": 25,
   "id": "a18c5f7f",
   "metadata": {},
   "outputs": [
    {
     "data": {
      "text/plain": [
       "9819"
      ]
     },
     "execution_count": 25,
     "metadata": {},
     "output_type": "execute_result"
    }
   ],
   "source": [
    "df_moyenne_mois.count()"
   ]
  },
  {
   "cell_type": "code",
   "execution_count": 26,
   "id": "96d1c67b",
   "metadata": {},
   "outputs": [],
   "source": [
    "# Exporter le résultat dans un fichier csv\n",
    "#df_moyenne_mois.coalesce(1).write.csv(\"/Users/mohamedsafir/Desktop/Ecole IPSSI/DataLake/datalll\")"
   ]
  },
  {
   "cell_type": "code",
   "execution_count": 27,
   "id": "1e539cc5",
   "metadata": {},
   "outputs": [],
   "source": [
    "# MOYENNE DES TEMPÉRATURES FINALES PAR ANNÉE\n",
    "df_moyenne_annee = df_f.groupby(\"STATION\",\"NAME\",\"LONGITUDE\",\"LATITUDE\",concat_ws('-',df_f.ANNEE)).avg(\"TMP_FINAL\").orderBy(\"concat_ws(-, ANNEE)\")"
   ]
  },
  {
   "cell_type": "code",
   "execution_count": 28,
   "id": "55bccd07",
   "metadata": {},
   "outputs": [
    {
     "name": "stdout",
     "output_type": "stream",
     "text": [
      "+----------+--------------------+---------+---------+-------------------+-------------------+\n",
      "|   STATION|                NAME|LONGITUDE| LATITUDE|concat_ws(-, ANNEE)|     avg(TMP_FINAL)|\n",
      "+----------+--------------------+---------+---------+-------------------+-------------------+\n",
      "|2418099999|        KARLSTAD, SW|13.337361|59.444714|               2020|  8.445630018529943|\n",
      "|1008099999|        LONGYEAR, SV|15.465556|78.246111|               2020|-3.4364999761188266|\n",
      "|2049099999|       GALLIVARE, SW|20.814636|67.132408|               2020| 1.7815976495811157|\n",
      "|2520099999|         SATENAS, SW|12.714389|58.426445|               2020|  9.261794225925193|\n",
      "|2044099999|          KIRUNA, SW|20.336764|67.821986|               2020| 1.3389512532677403|\n",
      "|1025099999|          TROMSO, NO|18.918919|69.683333|               2020|   4.12877777777781|\n",
      "|1010099999|          ANDOYA, NO|16.144167|  69.2925|               2020|  5.141248704250044|\n",
      "|2293099999|      SKELLEFTEA, SW|21.076892|64.624772|               2020| 5.5249756439734945|\n",
      "|2458099999|         UPPSALA, SW|17.588581|59.897328|               2020|  8.422323968359137|\n",
      "|1089099999|     HOYBUKTMOEN, NO|29.893011|69.725611|               2020|  2.081983371903654|\n",
      "|2101099999|         HEMAVAN, SW|15.082778|65.806111|               2020|  2.197201951219431|\n",
      "|2286099999|            UMEA, SW|20.282758|63.791828|               2020|  5.831594658287545|\n",
      "|2366099999|SUNDSVALL HARNOSA...|17.443928|62.528125|               2020|  6.364890449652982|\n",
      "|1152099999|            BODO, NO|14.365278|67.269167|               2020|  6.572013755876891|\n",
      "|2435099999|        BORLANGE, SW|15.515211|60.422017|               2020|  7.523822768184809|\n",
      "|1210099999|           VIGRA, NO| 6.110164|62.560372|               2020|  8.674545378712368|\n",
      "|2186099999|          KALLAX, SW|22.121989|65.543758|               2020|  5.064270967239313|\n",
      "|1241099999|          ORLAND, NO| 9.604003|63.698908|               2020|  8.044715485074716|\n",
      "|2226099999|       OSTERSUND, SW|     14.5|     63.2|               2020|  5.176379098988657|\n",
      "|1415099999|            SOLA, NO| 5.637778|58.876667|               2020|   9.70539494171632|\n",
      "+----------+--------------------+---------+---------+-------------------+-------------------+\n",
      "only showing top 20 rows\n",
      "\n"
     ]
    }
   ],
   "source": [
    "df_moyenne_annee.show()"
   ]
  },
  {
   "cell_type": "code",
   "execution_count": 29,
   "id": "0b44b477",
   "metadata": {},
   "outputs": [],
   "source": [
    "# Exporter le résultat dans un fichier csv\n",
    "#df_moyenne_annee.coalesce(1).write.csv(\"/Users/mohamedsafir/Desktop/Ecole IPSSI/DataLake/dataannee\")"
   ]
  },
  {
   "cell_type": "code",
   "execution_count": 30,
   "id": "a86a0b93",
   "metadata": {},
   "outputs": [],
   "source": [
    "# MOYENNE DES TEMPÉRATURES FINALES PAR PAYS\n",
    "df_moyenne_pays = df_f.groupby(split(df['NAME'],',').getItem(1)).avg(\"TMP_FINAL\")"
   ]
  },
  {
   "cell_type": "code",
   "execution_count": 31,
   "id": "699dea4f",
   "metadata": {},
   "outputs": [
    {
     "name": "stdout",
     "output_type": "stream",
     "text": [
      "+---------------------+------------------+\n",
      "|split(NAME, ,, -1)[1]|    avg(TMP_FINAL)|\n",
      "+---------------------+------------------+\n",
      "|                   SW|5.2510318377722145|\n",
      "|                   NO|6.1057022527750835|\n",
      "|                   SV|-5.192718321322931|\n",
      "|                   FO| 9.968988594589499|\n",
      "+---------------------+------------------+\n",
      "\n"
     ]
    }
   ],
   "source": [
    "df_moyenne_pays.show()"
   ]
  },
  {
   "cell_type": "code",
   "execution_count": 32,
   "id": "ddb7906f",
   "metadata": {},
   "outputs": [],
   "source": [
    "# Exporter le résultat dans un fichier csv\n",
    "#df_moyenne_pays.coalesce(1).write.csv(\"/Users/mohamedsafir/Desktop/Ecole IPSSI/DataLake/datapays\")"
   ]
  },
  {
   "cell_type": "code",
   "execution_count": 33,
   "id": "233adfc1",
   "metadata": {},
   "outputs": [],
   "source": [
    "# MOYENNE DES TEMPÉRATURES FINALES PAR PAYS ET PAR ANNÉE\n",
    "df_moyenne_pays_annee = df_f.groupby(csplit(df['NAME'],',').getItem(1), concat_ws('-',df_f.ANNEE)).avg(\"TMP_FINAL\")"
   ]
  },
  {
   "cell_type": "code",
   "execution_count": 34,
   "id": "2a398419",
   "metadata": {},
   "outputs": [
    {
     "name": "stdout",
     "output_type": "stream",
     "text": [
      "+---------------------+-------------------+------------------+\n",
      "|split(NAME, ,, -1)[1]|concat_ws(-, ANNEE)|    avg(TMP_FINAL)|\n",
      "+---------------------+-------------------+------------------+\n",
      "|                   SW|               2021| 4.983275450784886|\n",
      "|                   NO|               2020| 6.464882753719924|\n",
      "|                   SW|               2020| 5.608146716253506|\n",
      "|                   SV|               2020|-5.255134528673344|\n",
      "|                   NO|               2021| 5.601003277356129|\n",
      "|                   FO|               2021|10.063603365781224|\n",
      "|                   FO|               2020| 9.842897977132806|\n",
      "|                   SV|               2021|-4.251914486279477|\n",
      "+---------------------+-------------------+------------------+\n",
      "\n"
     ]
    }
   ],
   "source": [
    "df_moyenne_pays_annee.show()"
   ]
  },
  {
   "cell_type": "code",
   "execution_count": 35,
   "id": "37464a32",
   "metadata": {},
   "outputs": [],
   "source": [
    "# Exporter le résultat dans un fichier csv\n",
    "#df_moyenne_pays_annee.coalesce(1).write.csv(\"/Users/mohamedsafir/Desktop/Ecole IPSSI/DataLake/datapaysannee\")"
   ]
  },
  {
   "cell_type": "code",
   "execution_count": 36,
   "id": "2021c50b",
   "metadata": {},
   "outputs": [],
   "source": [
    "# LA TEMPÉRATURE MAXIMALE PAR STATION\n",
    "#df_MAX_station = df_f.groupby(\"STATION\",\"NAME\",\"LONGITUDE\",\"LATITUDE\",).max(df_f['TMP_FINAL'])\n",
    "\n",
    "\n",
    "#df_MAX_station = df_f.groupby(\"LATITUDE\").agg(f.max(df_f[\"TMP_FINAL\"]))\n",
    "\n",
    "\n",
    "df_MAX_station = df_f.groupby(\"STATION\").agg(max(df_f['TMP_FINAL']))"
   ]
  },
  {
   "cell_type": "code",
   "execution_count": 37,
   "id": "0766dc50",
   "metadata": {},
   "outputs": [
    {
     "name": "stdout",
     "output_type": "stream",
     "text": [
      "+----------+--------------+\n",
      "|   STATION|max(TMP_FINAL)|\n",
      "+----------+--------------+\n",
      "|2154099999|          32.0|\n",
      "|2520099999|          29.0|\n",
      "|2562099999|          31.0|\n",
      "|2186099999|          28.0|\n",
      "|1023099999|          26.0|\n",
      "|2458099999|          31.0|\n",
      "|2366099999|          30.0|\n",
      "|2590099999|          30.4|\n",
      "|2526099999|          29.0|\n",
      "|2267099999|          30.0|\n",
      "|2101099999|          29.0|\n",
      "|1311099999|          29.0|\n",
      "|2435099999|          30.0|\n",
      "|2418099999|          30.0|\n",
      "|2563599999|          30.0|\n",
      "|2044099999|          30.0|\n",
      "|1271099999|          31.0|\n",
      "|2049099999|          31.0|\n",
      "|1025099999|          25.0|\n",
      "|2293099999|          31.0|\n",
      "+----------+--------------+\n",
      "only showing top 20 rows\n",
      "\n"
     ]
    }
   ],
   "source": [
    "df_MAX_station.show()"
   ]
  },
  {
   "cell_type": "code",
   "execution_count": 39,
   "id": "f8e110e5",
   "metadata": {},
   "outputs": [],
   "source": [
    "# Min Max Avg par station avec la requête SQL\n",
    "df_f.createOrReplaceTempView(\"df_f_sql\")\n",
    "df_stattinmax=spark.sql(\"select STATION,NAME,LONGITUDE,LATITUDE, MAX(TMP_FINAL), MIN(TMP_FINAL), AVG(TMP_FINAL) from df_f_sql group by STATION,NAME,LONGITUDE,LATITUDE\")"
   ]
  },
  {
   "cell_type": "code",
   "execution_count": 40,
   "id": "f65a082f",
   "metadata": {},
   "outputs": [
    {
     "name": "stdout",
     "output_type": "stream",
     "text": [
      "+----------+--------------------+----------+----------+--------------+--------------+------------------+\n",
      "|   STATION|                NAME| LONGITUDE|  LATITUDE|max(TMP_FINAL)|min(TMP_FINAL)|    avg(TMP_FINAL)|\n",
      "+----------+--------------------+----------+----------+--------------+--------------+------------------+\n",
      "|2186099999|          KALLAX, SW| 22.121989| 65.543758|          28.0|         -29.1| 4.038190265226524|\n",
      "|1023099999|       BARDUFOSS, NO| 18.540356| 69.055758|          26.0|         -28.1| 2.703143944144881|\n",
      "|2520099999|         SATENAS, SW| 12.714389| 58.426445|          29.0|         -16.1|  8.54774016254455|\n",
      "|2458099999|         UPPSALA, SW| 17.588581| 59.897328|          31.0|         -25.0| 7.632638943790031|\n",
      "|2562099999|          MALMEN, SW| 15.525683| 58.402278|          31.0|         -20.0|7.4926822558459865|\n",
      "|2154099999|          VIDSEL, SW| 20.149917| 65.875325|          32.0|         -32.7|2.6239300440779223|\n",
      "|2526099999|      LANDVETTER, SW| 12.279819| 57.662836|          29.0|         -16.0| 7.852673827673833|\n",
      "|1311099999|        FLESLAND, NO|  5.218142| 60.293386|          29.0|         -12.0| 8.364714129927082|\n",
      "|2435099999|        BORLANGE, SW| 15.515211| 60.422017|          30.0|         -21.1| 6.803027897701959|\n",
      "|2101099999|         HEMAVAN, SW| 15.082778| 65.806111|          29.0|         -34.0|1.2369364813878323|\n",
      "|2366099999|SUNDSVALL HARNOSA...| 17.443928| 62.528125|          30.0|         -21.0| 5.533182272064118|\n",
      "|2590099999|           VISBY, SW| 18.346211| 57.662797|          30.4|         -14.6| 8.273895645351121|\n",
      "|2267099999|    ORNSKOLDSVIK, SW| 18.990039| 63.408339|          30.0|         -23.0| 4.794783379245337|\n",
      "|2418099999|        KARLSTAD, SW| 13.337361| 59.444714|          30.0|         -18.0| 7.609528135933998|\n",
      "|1271099999|         VAERNES, NO| 10.939872| 63.457556|          31.0|         -20.8| 6.939258478378074|\n",
      "|2563599999|       ANGELHOLM, SW|12.8333333|56.2833333|          30.0|         -16.0| 8.663051736967839|\n",
      "|2044099999|          KIRUNA, SW| 20.336764| 67.821986|          30.0|         -29.0|0.6931965818575595|\n",
      "|2049099999|       GALLIVARE, SW| 20.814636| 67.132408|          31.0|         -34.0|1.1238578780290494|\n",
      "|2226099999|       OSTERSUND, SW|      14.5|      63.2|          28.2|         -24.0|  4.29517930288279|\n",
      "|2464099999|          BROMMA, SW|  17.94165| 59.354372|          31.0|         -18.1| 8.506901408450652|\n",
      "+----------+--------------------+----------+----------+--------------+--------------+------------------+\n",
      "only showing top 20 rows\n",
      "\n"
     ]
    }
   ],
   "source": [
    "df_stattinmax.show()"
   ]
  },
  {
   "cell_type": "code",
   "execution_count": 41,
   "id": "9df8cfea",
   "metadata": {},
   "outputs": [
    {
     "data": {
      "text/plain": [
       "448"
      ]
     },
     "execution_count": 41,
     "metadata": {},
     "output_type": "execute_result"
    }
   ],
   "source": [
    "df_stattinmax.count()"
   ]
  },
  {
   "cell_type": "code",
   "execution_count": 42,
   "id": "05e786f3",
   "metadata": {},
   "outputs": [],
   "source": [
    "# Exporter le résultat dans un fichier csv\n",
    "#df_stattinmax.coalesce(1).write.csv(\"/Users/mohamedsafir/Desktop/Ecole IPSSI/DataLake/dataMINMAX\")"
   ]
  },
  {
   "cell_type": "code",
   "execution_count": 63,
   "id": "3fc18359",
   "metadata": {},
   "outputs": [],
   "source": [
    "# Min Max Avg par station et par année\n",
    "#df_f.createOrReplaceTempView(\"df_f_sql_annee\")\n",
    "df_stattinmax_annee=spark.sql(\"select STATION,NAME,LONGITUDE,LATITUDE,ANNEE, MAX(TMP_FINAL), MIN(TMP_FINAL), AVG(TMP_FINAL) from df_f_sql group by STATION,NAME,LONGITUDE,LATITUDE,ANNEE\")"
   ]
  },
  {
   "cell_type": "code",
   "execution_count": 64,
   "id": "47c98276",
   "metadata": {},
   "outputs": [
    {
     "name": "stdout",
     "output_type": "stream",
     "text": [
      "+----------+--------------------+----------+----------+-----+--------------+--------------+-------------------+\n",
      "|   STATION|                NAME| LONGITUDE|  LATITUDE|ANNEE|max(TMP_FINAL)|min(TMP_FINAL)|     avg(TMP_FINAL)|\n",
      "+----------+--------------------+----------+----------+-----+--------------+--------------+-------------------+\n",
      "|2458099999|         UPPSALA, SW| 17.588581| 59.897328| 2020|          30.0|         -10.0|  8.422323968359137|\n",
      "|2520099999|         SATENAS, SW| 12.714389| 58.426445| 2021|          29.0|         -16.1|  7.825258782936006|\n",
      "|2186099999|          KALLAX, SW| 22.121989| 65.543758| 2020|          28.0|         -21.4|  5.064270967239313|\n",
      "|1023099999|       BARDUFOSS, NO| 18.540356| 69.055758| 2020|          26.0|         -28.1|  2.703143944144881|\n",
      "|2154099999|          VIDSEL, SW| 20.149917| 65.875325| 2020|          30.0|         -28.0| 3.6138797065226247|\n",
      "|2520099999|         SATENAS, SW| 12.714389| 58.426445| 2020|          29.0|          -8.0|  9.261794225925193|\n",
      "|2562099999|          MALMEN, SW| 15.525683| 58.402278| 2021|          31.0|         -20.0| 7.4926822558459865|\n",
      "|2458099999|         UPPSALA, SW| 17.588581| 59.897328| 2021|          31.0|         -25.0|  6.819833152849664|\n",
      "|2154099999|          VIDSEL, SW| 20.149917| 65.875325| 2021|          32.0|         -32.7| 1.6185383828044992|\n",
      "|2435099999|        BORLANGE, SW| 15.515211| 60.422017| 2020|          30.0|         -12.2|  7.523822768184809|\n",
      "|2101099999|         HEMAVAN, SW| 15.082778| 65.806111| 2021|          29.0|         -34.0|0.28292559996889194|\n",
      "|2526099999|      LANDVETTER, SW| 12.279819| 57.662836| 2020|          28.0|          -8.2|  8.498799694189618|\n",
      "|2590099999|           VISBY, SW| 18.346211| 57.662797| 2021|          30.4|         -14.6|  8.273895645351121|\n",
      "|2267099999|    ORNSKOLDSVIK, SW| 18.990039| 63.408339| 2020|          30.0|         -16.4|  5.643644019138922|\n",
      "|2101099999|         HEMAVAN, SW| 15.082778| 65.806111| 2020|          25.0|         -30.2|  2.197201951219431|\n",
      "|2186099999|          KALLAX, SW| 22.121989| 65.543758| 2021|          28.0|         -29.1| 2.9987885723305276|\n",
      "|1311099999|        FLESLAND, NO|  5.218142| 60.293386| 2020|          29.0|          -3.5|  8.742407134675549|\n",
      "|2366099999|SUNDSVALL HARNOSA...| 17.443928| 62.528125| 2020|          30.0|         -14.0|  6.364890449652982|\n",
      "|2435099999|        BORLANGE, SW| 15.515211| 60.422017| 2021|          29.0|         -21.1| 6.0788480943879195|\n",
      "|2563599999|       ANGELHOLM, SW|12.8333333|56.2833333| 2021|          30.0|         -16.0|  8.663051736967839|\n",
      "+----------+--------------------+----------+----------+-----+--------------+--------------+-------------------+\n",
      "only showing top 20 rows\n",
      "\n"
     ]
    }
   ],
   "source": [
    "df_stattinmax_annee.show()"
   ]
  },
  {
   "cell_type": "code",
   "execution_count": 65,
   "id": "c4766304",
   "metadata": {},
   "outputs": [
    {
     "data": {
      "text/plain": [
       "829"
      ]
     },
     "execution_count": 65,
     "metadata": {},
     "output_type": "execute_result"
    }
   ],
   "source": [
    "df_stattinmax_annee.count()"
   ]
  },
  {
   "cell_type": "code",
   "execution_count": 56,
   "id": "3c76c35b",
   "metadata": {},
   "outputs": [],
   "source": [
    "# Exporter le résultat dans un fichier csv\n",
    "#df_stattinmax_annee.coalesce(1).write.csv(\"/Users/mohamedsafir/Desktop/Ecole IPSSI/DataLake/dataMINMAX_annee\")"
   ]
  },
  {
   "cell_type": "code",
   "execution_count": null,
   "id": "6a809f60",
   "metadata": {},
   "outputs": [],
   "source": []
  },
  {
   "cell_type": "code",
   "execution_count": null,
   "id": "1315f512",
   "metadata": {},
   "outputs": [],
   "source": []
  },
  {
   "cell_type": "code",
   "execution_count": null,
   "id": "9715d6fd",
   "metadata": {},
   "outputs": [],
   "source": []
  },
  {
   "cell_type": "code",
   "execution_count": null,
   "id": "0a7bc277",
   "metadata": {},
   "outputs": [],
   "source": []
  },
  {
   "cell_type": "code",
   "execution_count": null,
   "id": "48196f5a",
   "metadata": {},
   "outputs": [],
   "source": []
  },
  {
   "cell_type": "code",
   "execution_count": null,
   "id": "953d3989",
   "metadata": {},
   "outputs": [],
   "source": []
  }
 ],
 "metadata": {
  "interpreter": {
   "hash": "dca0ade3e726a953b501b15e8e990130d2b7799f14cfd9f4271676035ebe5511"
  },
  "kernelspec": {
   "display_name": "Python 3",
   "language": "python",
   "name": "python3"
  },
  "language_info": {
   "codemirror_mode": {
    "name": "ipython",
    "version": 3
   },
   "file_extension": ".py",
   "mimetype": "text/x-python",
   "name": "python",
   "nbconvert_exporter": "python",
   "pygments_lexer": "ipython3",
   "version": "3.8.8"
  }
 },
 "nbformat": 4,
 "nbformat_minor": 5
}
